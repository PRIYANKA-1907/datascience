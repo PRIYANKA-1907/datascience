{
  "nbformat": 4,
  "nbformat_minor": 0,
  "metadata": {
    "colab": {
      "provenance": [],
      "authorship_tag": "ABX9TyMJl3tihroEcoveMc35twwn",
      "include_colab_link": true
    },
    "kernelspec": {
      "name": "python3",
      "display_name": "Python 3"
    },
    "language_info": {
      "name": "python"
    }
  },
  "cells": [
    {
      "cell_type": "markdown",
      "metadata": {
        "id": "view-in-github",
        "colab_type": "text"
      },
      "source": [
        "<a href=\"https://colab.research.google.com/github/PRIYANKA-1907/datascience/blob/main/WEEK_4_DAY_4.ipynb\" target=\"_parent\"><img src=\"https://colab.research.google.com/assets/colab-badge.svg\" alt=\"Open In Colab\"/></a>"
      ]
    },
    {
      "cell_type": "markdown",
      "source": [
        "1"
      ],
      "metadata": {
        "id": "CU-JxCuVu4Np"
      }
    },
    {
      "cell_type": "code",
      "source": [
        "import pandas as pd\n",
        "from google.colab import files\n",
        "uploaded = files.upload() # Upload your CSV file\n",
        "df = pd.read_csv(\"Students_dataset.csv\") # Replace with your file name\n",
        "df.head()"
      ],
      "metadata": {
        "id": "kMmJgGp_u4_b",
        "colab": {
          "base_uri": "https://localhost:8080/",
          "height": 263
        },
        "outputId": "276c19fb-35ae-49ad-bf9b-b3aa56302273"
      },
      "execution_count": null,
      "outputs": [
        {
          "output_type": "display_data",
          "data": {
            "text/plain": [
              "<IPython.core.display.HTML object>"
            ],
            "text/html": [
              "\n",
              "     <input type=\"file\" id=\"files-53c5bba0-a027-4e48-93f6-b1eef1781614\" name=\"files[]\" multiple disabled\n",
              "        style=\"border:none\" />\n",
              "     <output id=\"result-53c5bba0-a027-4e48-93f6-b1eef1781614\">\n",
              "      Upload widget is only available when the cell has been executed in the\n",
              "      current browser session. Please rerun this cell to enable.\n",
              "      </output>\n",
              "      <script>// Copyright 2017 Google LLC\n",
              "//\n",
              "// Licensed under the Apache License, Version 2.0 (the \"License\");\n",
              "// you may not use this file except in compliance with the License.\n",
              "// You may obtain a copy of the License at\n",
              "//\n",
              "//      http://www.apache.org/licenses/LICENSE-2.0\n",
              "//\n",
              "// Unless required by applicable law or agreed to in writing, software\n",
              "// distributed under the License is distributed on an \"AS IS\" BASIS,\n",
              "// WITHOUT WARRANTIES OR CONDITIONS OF ANY KIND, either express or implied.\n",
              "// See the License for the specific language governing permissions and\n",
              "// limitations under the License.\n",
              "\n",
              "/**\n",
              " * @fileoverview Helpers for google.colab Python module.\n",
              " */\n",
              "(function(scope) {\n",
              "function span(text, styleAttributes = {}) {\n",
              "  const element = document.createElement('span');\n",
              "  element.textContent = text;\n",
              "  for (const key of Object.keys(styleAttributes)) {\n",
              "    element.style[key] = styleAttributes[key];\n",
              "  }\n",
              "  return element;\n",
              "}\n",
              "\n",
              "// Max number of bytes which will be uploaded at a time.\n",
              "const MAX_PAYLOAD_SIZE = 100 * 1024;\n",
              "\n",
              "function _uploadFiles(inputId, outputId) {\n",
              "  const steps = uploadFilesStep(inputId, outputId);\n",
              "  const outputElement = document.getElementById(outputId);\n",
              "  // Cache steps on the outputElement to make it available for the next call\n",
              "  // to uploadFilesContinue from Python.\n",
              "  outputElement.steps = steps;\n",
              "\n",
              "  return _uploadFilesContinue(outputId);\n",
              "}\n",
              "\n",
              "// This is roughly an async generator (not supported in the browser yet),\n",
              "// where there are multiple asynchronous steps and the Python side is going\n",
              "// to poll for completion of each step.\n",
              "// This uses a Promise to block the python side on completion of each step,\n",
              "// then passes the result of the previous step as the input to the next step.\n",
              "function _uploadFilesContinue(outputId) {\n",
              "  const outputElement = document.getElementById(outputId);\n",
              "  const steps = outputElement.steps;\n",
              "\n",
              "  const next = steps.next(outputElement.lastPromiseValue);\n",
              "  return Promise.resolve(next.value.promise).then((value) => {\n",
              "    // Cache the last promise value to make it available to the next\n",
              "    // step of the generator.\n",
              "    outputElement.lastPromiseValue = value;\n",
              "    return next.value.response;\n",
              "  });\n",
              "}\n",
              "\n",
              "/**\n",
              " * Generator function which is called between each async step of the upload\n",
              " * process.\n",
              " * @param {string} inputId Element ID of the input file picker element.\n",
              " * @param {string} outputId Element ID of the output display.\n",
              " * @return {!Iterable<!Object>} Iterable of next steps.\n",
              " */\n",
              "function* uploadFilesStep(inputId, outputId) {\n",
              "  const inputElement = document.getElementById(inputId);\n",
              "  inputElement.disabled = false;\n",
              "\n",
              "  const outputElement = document.getElementById(outputId);\n",
              "  outputElement.innerHTML = '';\n",
              "\n",
              "  const pickedPromise = new Promise((resolve) => {\n",
              "    inputElement.addEventListener('change', (e) => {\n",
              "      resolve(e.target.files);\n",
              "    });\n",
              "  });\n",
              "\n",
              "  const cancel = document.createElement('button');\n",
              "  inputElement.parentElement.appendChild(cancel);\n",
              "  cancel.textContent = 'Cancel upload';\n",
              "  const cancelPromise = new Promise((resolve) => {\n",
              "    cancel.onclick = () => {\n",
              "      resolve(null);\n",
              "    };\n",
              "  });\n",
              "\n",
              "  // Wait for the user to pick the files.\n",
              "  const files = yield {\n",
              "    promise: Promise.race([pickedPromise, cancelPromise]),\n",
              "    response: {\n",
              "      action: 'starting',\n",
              "    }\n",
              "  };\n",
              "\n",
              "  cancel.remove();\n",
              "\n",
              "  // Disable the input element since further picks are not allowed.\n",
              "  inputElement.disabled = true;\n",
              "\n",
              "  if (!files) {\n",
              "    return {\n",
              "      response: {\n",
              "        action: 'complete',\n",
              "      }\n",
              "    };\n",
              "  }\n",
              "\n",
              "  for (const file of files) {\n",
              "    const li = document.createElement('li');\n",
              "    li.append(span(file.name, {fontWeight: 'bold'}));\n",
              "    li.append(span(\n",
              "        `(${file.type || 'n/a'}) - ${file.size} bytes, ` +\n",
              "        `last modified: ${\n",
              "            file.lastModifiedDate ? file.lastModifiedDate.toLocaleDateString() :\n",
              "                                    'n/a'} - `));\n",
              "    const percent = span('0% done');\n",
              "    li.appendChild(percent);\n",
              "\n",
              "    outputElement.appendChild(li);\n",
              "\n",
              "    const fileDataPromise = new Promise((resolve) => {\n",
              "      const reader = new FileReader();\n",
              "      reader.onload = (e) => {\n",
              "        resolve(e.target.result);\n",
              "      };\n",
              "      reader.readAsArrayBuffer(file);\n",
              "    });\n",
              "    // Wait for the data to be ready.\n",
              "    let fileData = yield {\n",
              "      promise: fileDataPromise,\n",
              "      response: {\n",
              "        action: 'continue',\n",
              "      }\n",
              "    };\n",
              "\n",
              "    // Use a chunked sending to avoid message size limits. See b/62115660.\n",
              "    let position = 0;\n",
              "    do {\n",
              "      const length = Math.min(fileData.byteLength - position, MAX_PAYLOAD_SIZE);\n",
              "      const chunk = new Uint8Array(fileData, position, length);\n",
              "      position += length;\n",
              "\n",
              "      const base64 = btoa(String.fromCharCode.apply(null, chunk));\n",
              "      yield {\n",
              "        response: {\n",
              "          action: 'append',\n",
              "          file: file.name,\n",
              "          data: base64,\n",
              "        },\n",
              "      };\n",
              "\n",
              "      let percentDone = fileData.byteLength === 0 ?\n",
              "          100 :\n",
              "          Math.round((position / fileData.byteLength) * 100);\n",
              "      percent.textContent = `${percentDone}% done`;\n",
              "\n",
              "    } while (position < fileData.byteLength);\n",
              "  }\n",
              "\n",
              "  // All done.\n",
              "  yield {\n",
              "    response: {\n",
              "      action: 'complete',\n",
              "    }\n",
              "  };\n",
              "}\n",
              "\n",
              "scope.google = scope.google || {};\n",
              "scope.google.colab = scope.google.colab || {};\n",
              "scope.google.colab._files = {\n",
              "  _uploadFiles,\n",
              "  _uploadFilesContinue,\n",
              "};\n",
              "})(self);\n",
              "</script> "
            ]
          },
          "metadata": {}
        },
        {
          "output_type": "stream",
          "name": "stdout",
          "text": [
            "Saving Students_dataset.csv to Students_dataset (3).csv\n"
          ]
        },
        {
          "output_type": "execute_result",
          "data": {
            "text/plain": [
              "      Name   Age  Marks  Attendance Passed\n",
              "0    Alice  20.0   85.0        90.0    Yes\n",
              "1      Bob  21.0    NaN        80.0     No\n",
              "2  Charlie   NaN   78.0         NaN    Yes\n",
              "3    David  22.0   90.0        85.0    Yes\n",
              "4      Eve  20.0   88.0        95.0     No"
            ],
            "text/html": [
              "\n",
              "  <div id=\"df-78af282a-811b-4135-b01d-051280f7a043\" class=\"colab-df-container\">\n",
              "    <div>\n",
              "<style scoped>\n",
              "    .dataframe tbody tr th:only-of-type {\n",
              "        vertical-align: middle;\n",
              "    }\n",
              "\n",
              "    .dataframe tbody tr th {\n",
              "        vertical-align: top;\n",
              "    }\n",
              "\n",
              "    .dataframe thead th {\n",
              "        text-align: right;\n",
              "    }\n",
              "</style>\n",
              "<table border=\"1\" class=\"dataframe\">\n",
              "  <thead>\n",
              "    <tr style=\"text-align: right;\">\n",
              "      <th></th>\n",
              "      <th>Name</th>\n",
              "      <th>Age</th>\n",
              "      <th>Marks</th>\n",
              "      <th>Attendance</th>\n",
              "      <th>Passed</th>\n",
              "    </tr>\n",
              "  </thead>\n",
              "  <tbody>\n",
              "    <tr>\n",
              "      <th>0</th>\n",
              "      <td>Alice</td>\n",
              "      <td>20.0</td>\n",
              "      <td>85.0</td>\n",
              "      <td>90.0</td>\n",
              "      <td>Yes</td>\n",
              "    </tr>\n",
              "    <tr>\n",
              "      <th>1</th>\n",
              "      <td>Bob</td>\n",
              "      <td>21.0</td>\n",
              "      <td>NaN</td>\n",
              "      <td>80.0</td>\n",
              "      <td>No</td>\n",
              "    </tr>\n",
              "    <tr>\n",
              "      <th>2</th>\n",
              "      <td>Charlie</td>\n",
              "      <td>NaN</td>\n",
              "      <td>78.0</td>\n",
              "      <td>NaN</td>\n",
              "      <td>Yes</td>\n",
              "    </tr>\n",
              "    <tr>\n",
              "      <th>3</th>\n",
              "      <td>David</td>\n",
              "      <td>22.0</td>\n",
              "      <td>90.0</td>\n",
              "      <td>85.0</td>\n",
              "      <td>Yes</td>\n",
              "    </tr>\n",
              "    <tr>\n",
              "      <th>4</th>\n",
              "      <td>Eve</td>\n",
              "      <td>20.0</td>\n",
              "      <td>88.0</td>\n",
              "      <td>95.0</td>\n",
              "      <td>No</td>\n",
              "    </tr>\n",
              "  </tbody>\n",
              "</table>\n",
              "</div>\n",
              "    <div class=\"colab-df-buttons\">\n",
              "\n",
              "  <div class=\"colab-df-container\">\n",
              "    <button class=\"colab-df-convert\" onclick=\"convertToInteractive('df-78af282a-811b-4135-b01d-051280f7a043')\"\n",
              "            title=\"Convert this dataframe to an interactive table.\"\n",
              "            style=\"display:none;\">\n",
              "\n",
              "  <svg xmlns=\"http://www.w3.org/2000/svg\" height=\"24px\" viewBox=\"0 -960 960 960\">\n",
              "    <path d=\"M120-120v-720h720v720H120Zm60-500h600v-160H180v160Zm220 220h160v-160H400v160Zm0 220h160v-160H400v160ZM180-400h160v-160H180v160Zm440 0h160v-160H620v160ZM180-180h160v-160H180v160Zm440 0h160v-160H620v160Z\"/>\n",
              "  </svg>\n",
              "    </button>\n",
              "\n",
              "  <style>\n",
              "    .colab-df-container {\n",
              "      display:flex;\n",
              "      gap: 12px;\n",
              "    }\n",
              "\n",
              "    .colab-df-convert {\n",
              "      background-color: #E8F0FE;\n",
              "      border: none;\n",
              "      border-radius: 50%;\n",
              "      cursor: pointer;\n",
              "      display: none;\n",
              "      fill: #1967D2;\n",
              "      height: 32px;\n",
              "      padding: 0 0 0 0;\n",
              "      width: 32px;\n",
              "    }\n",
              "\n",
              "    .colab-df-convert:hover {\n",
              "      background-color: #E2EBFA;\n",
              "      box-shadow: 0px 1px 2px rgba(60, 64, 67, 0.3), 0px 1px 3px 1px rgba(60, 64, 67, 0.15);\n",
              "      fill: #174EA6;\n",
              "    }\n",
              "\n",
              "    .colab-df-buttons div {\n",
              "      margin-bottom: 4px;\n",
              "    }\n",
              "\n",
              "    [theme=dark] .colab-df-convert {\n",
              "      background-color: #3B4455;\n",
              "      fill: #D2E3FC;\n",
              "    }\n",
              "\n",
              "    [theme=dark] .colab-df-convert:hover {\n",
              "      background-color: #434B5C;\n",
              "      box-shadow: 0px 1px 3px 1px rgba(0, 0, 0, 0.15);\n",
              "      filter: drop-shadow(0px 1px 2px rgba(0, 0, 0, 0.3));\n",
              "      fill: #FFFFFF;\n",
              "    }\n",
              "  </style>\n",
              "\n",
              "    <script>\n",
              "      const buttonEl =\n",
              "        document.querySelector('#df-78af282a-811b-4135-b01d-051280f7a043 button.colab-df-convert');\n",
              "      buttonEl.style.display =\n",
              "        google.colab.kernel.accessAllowed ? 'block' : 'none';\n",
              "\n",
              "      async function convertToInteractive(key) {\n",
              "        const element = document.querySelector('#df-78af282a-811b-4135-b01d-051280f7a043');\n",
              "        const dataTable =\n",
              "          await google.colab.kernel.invokeFunction('convertToInteractive',\n",
              "                                                    [key], {});\n",
              "        if (!dataTable) return;\n",
              "\n",
              "        const docLinkHtml = 'Like what you see? Visit the ' +\n",
              "          '<a target=\"_blank\" href=https://colab.research.google.com/notebooks/data_table.ipynb>data table notebook</a>'\n",
              "          + ' to learn more about interactive tables.';\n",
              "        element.innerHTML = '';\n",
              "        dataTable['output_type'] = 'display_data';\n",
              "        await google.colab.output.renderOutput(dataTable, element);\n",
              "        const docLink = document.createElement('div');\n",
              "        docLink.innerHTML = docLinkHtml;\n",
              "        element.appendChild(docLink);\n",
              "      }\n",
              "    </script>\n",
              "  </div>\n",
              "\n",
              "\n",
              "<div id=\"df-fcd2a110-bb49-45f3-a4e7-3dac66360d20\">\n",
              "  <button class=\"colab-df-quickchart\" onclick=\"quickchart('df-fcd2a110-bb49-45f3-a4e7-3dac66360d20')\"\n",
              "            title=\"Suggest charts\"\n",
              "            style=\"display:none;\">\n",
              "\n",
              "<svg xmlns=\"http://www.w3.org/2000/svg\" height=\"24px\"viewBox=\"0 0 24 24\"\n",
              "     width=\"24px\">\n",
              "    <g>\n",
              "        <path d=\"M19 3H5c-1.1 0-2 .9-2 2v14c0 1.1.9 2 2 2h14c1.1 0 2-.9 2-2V5c0-1.1-.9-2-2-2zM9 17H7v-7h2v7zm4 0h-2V7h2v10zm4 0h-2v-4h2v4z\"/>\n",
              "    </g>\n",
              "</svg>\n",
              "  </button>\n",
              "\n",
              "<style>\n",
              "  .colab-df-quickchart {\n",
              "      --bg-color: #E8F0FE;\n",
              "      --fill-color: #1967D2;\n",
              "      --hover-bg-color: #E2EBFA;\n",
              "      --hover-fill-color: #174EA6;\n",
              "      --disabled-fill-color: #AAA;\n",
              "      --disabled-bg-color: #DDD;\n",
              "  }\n",
              "\n",
              "  [theme=dark] .colab-df-quickchart {\n",
              "      --bg-color: #3B4455;\n",
              "      --fill-color: #D2E3FC;\n",
              "      --hover-bg-color: #434B5C;\n",
              "      --hover-fill-color: #FFFFFF;\n",
              "      --disabled-bg-color: #3B4455;\n",
              "      --disabled-fill-color: #666;\n",
              "  }\n",
              "\n",
              "  .colab-df-quickchart {\n",
              "    background-color: var(--bg-color);\n",
              "    border: none;\n",
              "    border-radius: 50%;\n",
              "    cursor: pointer;\n",
              "    display: none;\n",
              "    fill: var(--fill-color);\n",
              "    height: 32px;\n",
              "    padding: 0;\n",
              "    width: 32px;\n",
              "  }\n",
              "\n",
              "  .colab-df-quickchart:hover {\n",
              "    background-color: var(--hover-bg-color);\n",
              "    box-shadow: 0 1px 2px rgba(60, 64, 67, 0.3), 0 1px 3px 1px rgba(60, 64, 67, 0.15);\n",
              "    fill: var(--button-hover-fill-color);\n",
              "  }\n",
              "\n",
              "  .colab-df-quickchart-complete:disabled,\n",
              "  .colab-df-quickchart-complete:disabled:hover {\n",
              "    background-color: var(--disabled-bg-color);\n",
              "    fill: var(--disabled-fill-color);\n",
              "    box-shadow: none;\n",
              "  }\n",
              "\n",
              "  .colab-df-spinner {\n",
              "    border: 2px solid var(--fill-color);\n",
              "    border-color: transparent;\n",
              "    border-bottom-color: var(--fill-color);\n",
              "    animation:\n",
              "      spin 1s steps(1) infinite;\n",
              "  }\n",
              "\n",
              "  @keyframes spin {\n",
              "    0% {\n",
              "      border-color: transparent;\n",
              "      border-bottom-color: var(--fill-color);\n",
              "      border-left-color: var(--fill-color);\n",
              "    }\n",
              "    20% {\n",
              "      border-color: transparent;\n",
              "      border-left-color: var(--fill-color);\n",
              "      border-top-color: var(--fill-color);\n",
              "    }\n",
              "    30% {\n",
              "      border-color: transparent;\n",
              "      border-left-color: var(--fill-color);\n",
              "      border-top-color: var(--fill-color);\n",
              "      border-right-color: var(--fill-color);\n",
              "    }\n",
              "    40% {\n",
              "      border-color: transparent;\n",
              "      border-right-color: var(--fill-color);\n",
              "      border-top-color: var(--fill-color);\n",
              "    }\n",
              "    60% {\n",
              "      border-color: transparent;\n",
              "      border-right-color: var(--fill-color);\n",
              "    }\n",
              "    80% {\n",
              "      border-color: transparent;\n",
              "      border-right-color: var(--fill-color);\n",
              "      border-bottom-color: var(--fill-color);\n",
              "    }\n",
              "    90% {\n",
              "      border-color: transparent;\n",
              "      border-bottom-color: var(--fill-color);\n",
              "    }\n",
              "  }\n",
              "</style>\n",
              "\n",
              "  <script>\n",
              "    async function quickchart(key) {\n",
              "      const quickchartButtonEl =\n",
              "        document.querySelector('#' + key + ' button');\n",
              "      quickchartButtonEl.disabled = true;  // To prevent multiple clicks.\n",
              "      quickchartButtonEl.classList.add('colab-df-spinner');\n",
              "      try {\n",
              "        const charts = await google.colab.kernel.invokeFunction(\n",
              "            'suggestCharts', [key], {});\n",
              "      } catch (error) {\n",
              "        console.error('Error during call to suggestCharts:', error);\n",
              "      }\n",
              "      quickchartButtonEl.classList.remove('colab-df-spinner');\n",
              "      quickchartButtonEl.classList.add('colab-df-quickchart-complete');\n",
              "    }\n",
              "    (() => {\n",
              "      let quickchartButtonEl =\n",
              "        document.querySelector('#df-fcd2a110-bb49-45f3-a4e7-3dac66360d20 button');\n",
              "      quickchartButtonEl.style.display =\n",
              "        google.colab.kernel.accessAllowed ? 'block' : 'none';\n",
              "    })();\n",
              "  </script>\n",
              "</div>\n",
              "\n",
              "    </div>\n",
              "  </div>\n"
            ],
            "application/vnd.google.colaboratory.intrinsic+json": {
              "type": "dataframe",
              "variable_name": "df",
              "summary": "{\n  \"name\": \"df\",\n  \"rows\": 16,\n  \"fields\": [\n    {\n      \"column\": \"Name\",\n      \"properties\": {\n        \"dtype\": \"string\",\n        \"num_unique_values\": 16,\n        \"samples\": [\n          \"Alice\",\n          \"Bob\",\n          \"Frank\"\n        ],\n        \"semantic_type\": \"\",\n        \"description\": \"\"\n      }\n    },\n    {\n      \"column\": \"Age\",\n      \"properties\": {\n        \"dtype\": \"number\",\n        \"std\": 1.5374122295716148,\n        \"min\": 20.0,\n        \"max\": 25.0,\n        \"num_unique_values\": 6,\n        \"samples\": [\n          20.0,\n          21.0,\n          25.0\n        ],\n        \"semantic_type\": \"\",\n        \"description\": \"\"\n      }\n    },\n    {\n      \"column\": \"Marks\",\n      \"properties\": {\n        \"dtype\": \"number\",\n        \"std\": 5.34279463815095,\n        \"min\": 76.0,\n        \"max\": 92.0,\n        \"num_unique_values\": 12,\n        \"samples\": [\n          77.0,\n          83.0,\n          85.0\n        ],\n        \"semantic_type\": \"\",\n        \"description\": \"\"\n      }\n    },\n    {\n      \"column\": \"Attendance\",\n      \"properties\": {\n        \"dtype\": \"number\",\n        \"std\": 7.123903424387503,\n        \"min\": 70.0,\n        \"max\": 95.0,\n        \"num_unique_values\": 10,\n        \"samples\": [\n          89.0,\n          80.0,\n          88.0\n        ],\n        \"semantic_type\": \"\",\n        \"description\": \"\"\n      }\n    },\n    {\n      \"column\": \"Passed\",\n      \"properties\": {\n        \"dtype\": \"category\",\n        \"num_unique_values\": 2,\n        \"samples\": [\n          \"No\",\n          \"Yes\"\n        ],\n        \"semantic_type\": \"\",\n        \"description\": \"\"\n      }\n    }\n  ]\n}"
            }
          },
          "metadata": {},
          "execution_count": 5
        }
      ]
    },
    {
      "cell_type": "markdown",
      "source": [
        "2"
      ],
      "metadata": {
        "id": "C6aN1DxAxWD9"
      }
    },
    {
      "cell_type": "code",
      "source": [
        "print(df.isnull().sum())"
      ],
      "metadata": {
        "colab": {
          "base_uri": "https://localhost:8080/"
        },
        "id": "6GgyXDZkxX_Q",
        "outputId": "55e038cb-c787-4404-f2ad-f99f78833685"
      },
      "execution_count": null,
      "outputs": [
        {
          "output_type": "stream",
          "name": "stdout",
          "text": [
            "Name          0\n",
            "Age           4\n",
            "Marks         4\n",
            "Attendance    4\n",
            "Passed        0\n",
            "dtype: int64\n"
          ]
        }
      ]
    },
    {
      "cell_type": "markdown",
      "source": [
        "2.1"
      ],
      "metadata": {
        "id": "kshaLEFFzLDO"
      }
    },
    {
      "cell_type": "code",
      "source": [
        "df_cleaned = df.dropna() # Removes rows with missing values\n",
        "print(df_cleaned)"
      ],
      "metadata": {
        "colab": {
          "base_uri": "https://localhost:8080/"
        },
        "id": "jaDuZ6x6zMMD",
        "outputId": "9fd68afb-7a28-4ab3-e60b-11270b9c050d"
      },
      "execution_count": null,
      "outputs": [
        {
          "output_type": "stream",
          "name": "stdout",
          "text": [
            "     Name   Age  Marks  Attendance Passed\n",
            "0   Alice  20.0   85.0        90.0    Yes\n",
            "3   David  22.0   90.0        85.0    Yes\n",
            "4     Eve  20.0   88.0        95.0     No\n",
            "8     Ivy  24.0   92.0        92.0    Yes\n",
            "12   Mona  21.0   83.0        80.0     No\n"
          ]
        }
      ]
    },
    {
      "cell_type": "markdown",
      "source": [
        "2.2"
      ],
      "metadata": {
        "id": "IzJ95bTxUUlR"
      }
    },
    {
      "cell_type": "code",
      "source": [
        "print(df.drop_duplicates(inplace=True))"
      ],
      "metadata": {
        "colab": {
          "base_uri": "https://localhost:8080/"
        },
        "id": "laiu79K1UWEW",
        "outputId": "67e67082-9362-4a96-b0fe-939e21f4bb17"
      },
      "execution_count": null,
      "outputs": [
        {
          "output_type": "stream",
          "name": "stdout",
          "text": [
            "None\n"
          ]
        }
      ]
    },
    {
      "cell_type": "markdown",
      "source": [
        "2.3"
      ],
      "metadata": {
        "id": "R50gw8fqS8Qp"
      }
    },
    {
      "cell_type": "code",
      "source": [
        "df.loc[:, \"Age\"] = df[\"Age\"].fillna(df[\"Age\"].mean())\n",
        "df.loc[:, \"Marks\"] = df[\"Marks\"].fillna(df[\"Marks\"].median())\n",
        "df.loc[:, \"Attendance\"] = df[\"Attendance\"].fillna(df[\"Attendance\"].mean())\n",
        "print(df)"
      ],
      "metadata": {
        "colab": {
          "base_uri": "https://localhost:8080/"
        },
        "id": "jp-hnf3CS9uq",
        "outputId": "965669e3-72a6-4b96-fbb3-8d67c3328c80"
      },
      "execution_count": null,
      "outputs": [
        {
          "output_type": "stream",
          "name": "stdout",
          "text": [
            "       Name   Age  Marks  Attendance Passed\n",
            "0     Alice  20.0   85.0       90.00    Yes\n",
            "1       Bob  21.0   82.0       80.00     No\n",
            "2   Charlie  22.0   78.0       85.25    Yes\n",
            "3     David  22.0   90.0       85.00    Yes\n",
            "4       Eve  20.0   88.0       95.00     No\n",
            "5     Frank  22.0   76.0       70.00    Yes\n",
            "6     Grace  23.0   82.0       88.00     No\n",
            "7      Hank  21.0   80.0       85.25    Yes\n",
            "8       Ivy  24.0   92.0       92.00    Yes\n",
            "9      Jack  22.0   79.0       85.00     No\n",
            "10    Kelly  22.0   82.0       78.00    Yes\n",
            "11      Leo  23.0   87.0       85.25    Yes\n",
            "12     Mona  21.0   83.0       80.00     No\n",
            "13     Nina  22.0   77.0       89.00    Yes\n",
            "14    Oscar  25.0   82.0       91.00     No\n",
            "15     Paul  22.0   81.0       85.25    Yes\n"
          ]
        }
      ]
    },
    {
      "cell_type": "markdown",
      "source": [
        "2.4"
      ],
      "metadata": {
        "id": "2hIxGhZjVzHZ"
      }
    },
    {
      "cell_type": "code",
      "source": [
        "df[\"Passed\"].fillna(df[\"Passed\"].mode()[0])\n",
        "print(df)"
      ],
      "metadata": {
        "colab": {
          "base_uri": "https://localhost:8080/"
        },
        "id": "_lctZssKV0W-",
        "outputId": "9e9c3895-e0a3-43bd-dcfb-86e23b8c6236"
      },
      "execution_count": null,
      "outputs": [
        {
          "output_type": "stream",
          "name": "stdout",
          "text": [
            "       Name   Age  Marks  Attendance Passed\n",
            "0     Alice  20.0   85.0       90.00    Yes\n",
            "1       Bob  21.0   82.0       80.00     No\n",
            "2   Charlie  22.0   78.0       85.25    Yes\n",
            "3     David  22.0   90.0       85.00    Yes\n",
            "4       Eve  20.0   88.0       95.00     No\n",
            "5     Frank  22.0   76.0       70.00    Yes\n",
            "6     Grace  23.0   82.0       88.00     No\n",
            "7      Hank  21.0   80.0       85.25    Yes\n",
            "8       Ivy  24.0   92.0       92.00    Yes\n",
            "9      Jack  22.0   79.0       85.00     No\n",
            "10    Kelly  22.0   82.0       78.00    Yes\n",
            "11      Leo  23.0   87.0       85.25    Yes\n",
            "12     Mona  21.0   83.0       80.00     No\n",
            "13     Nina  22.0   77.0       89.00    Yes\n",
            "14    Oscar  25.0   82.0       91.00     No\n",
            "15     Paul  22.0   81.0       85.25    Yes\n"
          ]
        }
      ]
    },
    {
      "cell_type": "markdown",
      "source": [
        "2.5"
      ],
      "metadata": {
        "id": "0KzGQ6t0Wt26"
      }
    },
    {
      "cell_type": "code",
      "source": [
        "print(df.ffill(inplace=True)) # Forward fill\n",
        "print(df.bfill(inplace=True)) # Backward fill"
      ],
      "metadata": {
        "colab": {
          "base_uri": "https://localhost:8080/"
        },
        "id": "JcIu4aI9Wuzn",
        "outputId": "5b1f8c9e-1bd6-4848-8ea5-a23c4c31b0e5"
      },
      "execution_count": null,
      "outputs": [
        {
          "output_type": "stream",
          "name": "stdout",
          "text": [
            "None\n",
            "None\n"
          ]
        }
      ]
    },
    {
      "cell_type": "markdown",
      "source": [
        "2.6"
      ],
      "metadata": {
        "id": "d-spEEfNW4qO"
      }
    },
    {
      "cell_type": "code",
      "source": [
        "print(df.drop_duplicates(inplace=True))"
      ],
      "metadata": {
        "colab": {
          "base_uri": "https://localhost:8080/"
        },
        "id": "ARANO74JW5vD",
        "outputId": "24d28a5e-3b61-45d2-bfe7-4570172254ec"
      },
      "execution_count": null,
      "outputs": [
        {
          "output_type": "stream",
          "name": "stdout",
          "text": [
            "None\n"
          ]
        }
      ]
    },
    {
      "cell_type": "markdown",
      "source": [
        "3"
      ],
      "metadata": {
        "id": "Grb3PyeqbIHC"
      }
    },
    {
      "cell_type": "code",
      "source": [
        "from sklearn.preprocessing import StandardScaler\n",
        "scaler = StandardScaler()\n",
        "df_scaled = df.copy()\n",
        "df_scaled[[\"Marks\", \"Attendance\"]] = scaler.fit_transform(df[[\"Marks\", \"Attendance\"]])\n",
        "print(df_scaled)"
      ],
      "metadata": {
        "colab": {
          "base_uri": "https://localhost:8080/"
        },
        "id": "Jaii5NNCbOWT",
        "outputId": "221cbc90-8546-4f17-b090-eef467ddabd8"
      },
      "execution_count": null,
      "outputs": [
        {
          "output_type": "stream",
          "name": "stdout",
          "text": [
            "       Name   Age     Marks  Attendance Passed\n",
            "0     Alice  20.0  0.505490    0.804154    Yes\n",
            "1       Bob  21.0 -0.168497   -0.888802     No\n",
            "2   Charlie  22.0 -1.067146    0.000000    Yes\n",
            "3     David  22.0  1.628802   -0.042324    Yes\n",
            "4       Eve  20.0  1.179478    1.650632     No\n",
            "5     Frank  22.0 -1.516471   -2.581758    Yes\n",
            "6     Grace  23.0 -0.168497    0.465563     No\n",
            "7      Hank  21.0 -0.617822    0.000000    Yes\n",
            "8       Ivy  24.0  2.078127    1.142745    Yes\n",
            "9      Jack  22.0 -0.842484   -0.042324     No\n",
            "10    Kelly  22.0 -0.168497   -1.227393    Yes\n",
            "11      Leo  23.0  0.954815    0.000000    Yes\n",
            "12     Mona  21.0  0.056166   -0.888802     No\n",
            "13     Nina  22.0 -1.291809    0.634858    Yes\n",
            "14    Oscar  25.0 -0.168497    0.973450     No\n",
            "15     Paul  22.0 -0.393159    0.000000    Yes\n"
          ]
        }
      ]
    },
    {
      "cell_type": "markdown",
      "source": [
        "3.1"
      ],
      "metadata": {
        "id": "rmBrlK_UbgNS"
      }
    },
    {
      "cell_type": "code",
      "source": [
        "from sklearn.preprocessing import MinMaxScaler\n",
        "scaler = MinMaxScaler()\n",
        "df_scaled[[\"Marks\", \"Attendance\"]] = scaler.fit_transform(df[[\"Marks\", \"Attendance\"]])\n",
        "print(df_scaled)\n"
      ],
      "metadata": {
        "colab": {
          "base_uri": "https://localhost:8080/"
        },
        "id": "RNN1QO53bhcr",
        "outputId": "08477fa1-6fef-4b73-eb6a-285f3f25552e"
      },
      "execution_count": null,
      "outputs": [
        {
          "output_type": "stream",
          "name": "stdout",
          "text": [
            "       Name   Age   Marks  Attendance Passed\n",
            "0     Alice  20.0  0.5625        0.80    Yes\n",
            "1       Bob  21.0  0.3750        0.40     No\n",
            "2   Charlie  22.0  0.1250        0.61    Yes\n",
            "3     David  22.0  0.8750        0.60    Yes\n",
            "4       Eve  20.0  0.7500        1.00     No\n",
            "5     Frank  22.0  0.0000        0.00    Yes\n",
            "6     Grace  23.0  0.3750        0.72     No\n",
            "7      Hank  21.0  0.2500        0.61    Yes\n",
            "8       Ivy  24.0  1.0000        0.88    Yes\n",
            "9      Jack  22.0  0.1875        0.60     No\n",
            "10    Kelly  22.0  0.3750        0.32    Yes\n",
            "11      Leo  23.0  0.6875        0.61    Yes\n",
            "12     Mona  21.0  0.4375        0.40     No\n",
            "13     Nina  22.0  0.0625        0.76    Yes\n",
            "14    Oscar  25.0  0.3750        0.84     No\n",
            "15     Paul  22.0  0.3125        0.61    Yes\n"
          ]
        }
      ]
    },
    {
      "cell_type": "markdown",
      "source": [
        "3.2"
      ],
      "metadata": {
        "id": "HMQkyP2sbq77"
      }
    },
    {
      "cell_type": "code",
      "source": [
        "df_encoded = pd.get_dummies(df, columns=[\"Passed\"], drop_first=True)\n",
        "print(df_encoded)"
      ],
      "metadata": {
        "colab": {
          "base_uri": "https://localhost:8080/"
        },
        "id": "G2hEt98QbsLs",
        "outputId": "c4925f13-01d2-424f-c7db-58607cdd4311"
      },
      "execution_count": null,
      "outputs": [
        {
          "output_type": "stream",
          "name": "stdout",
          "text": [
            "       Name   Age  Marks  Attendance  Passed_Yes\n",
            "0     Alice  20.0   85.0       90.00        True\n",
            "1       Bob  21.0   82.0       80.00       False\n",
            "2   Charlie  22.0   78.0       85.25        True\n",
            "3     David  22.0   90.0       85.00        True\n",
            "4       Eve  20.0   88.0       95.00       False\n",
            "5     Frank  22.0   76.0       70.00        True\n",
            "6     Grace  23.0   82.0       88.00       False\n",
            "7      Hank  21.0   80.0       85.25        True\n",
            "8       Ivy  24.0   92.0       92.00        True\n",
            "9      Jack  22.0   79.0       85.00       False\n",
            "10    Kelly  22.0   82.0       78.00        True\n",
            "11      Leo  23.0   87.0       85.25        True\n",
            "12     Mona  21.0   83.0       80.00       False\n",
            "13     Nina  22.0   77.0       89.00        True\n",
            "14    Oscar  25.0   82.0       91.00       False\n",
            "15     Paul  22.0   81.0       85.25        True\n"
          ]
        }
      ]
    },
    {
      "cell_type": "markdown",
      "source": [
        "3.3"
      ],
      "metadata": {
        "id": "e9wEr6YAbx7y"
      }
    },
    {
      "cell_type": "code",
      "source": [
        "from sklearn.preprocessing import LabelEncoder\n",
        "encoder = LabelEncoder()\n",
        "df[\"Passed\"] = encoder.fit_transform(df[\"Passed\"])\n",
        "print(df)"
      ],
      "metadata": {
        "colab": {
          "base_uri": "https://localhost:8080/"
        },
        "id": "5RpBHMkbbzbh",
        "outputId": "87319f9b-a244-4ca8-b809-d3a1af4b53e6"
      },
      "execution_count": null,
      "outputs": [
        {
          "output_type": "stream",
          "name": "stdout",
          "text": [
            "       Name   Age  Marks  Attendance  Passed\n",
            "0     Alice  20.0   85.0       90.00       1\n",
            "1       Bob  21.0   82.0       80.00       0\n",
            "2   Charlie  22.0   78.0       85.25       1\n",
            "3     David  22.0   90.0       85.00       1\n",
            "4       Eve  20.0   88.0       95.00       0\n",
            "5     Frank  22.0   76.0       70.00       1\n",
            "6     Grace  23.0   82.0       88.00       0\n",
            "7      Hank  21.0   80.0       85.25       1\n",
            "8       Ivy  24.0   92.0       92.00       1\n",
            "9      Jack  22.0   79.0       85.00       0\n",
            "10    Kelly  22.0   82.0       78.00       1\n",
            "11      Leo  23.0   87.0       85.25       1\n",
            "12     Mona  21.0   83.0       80.00       0\n",
            "13     Nina  22.0   77.0       89.00       1\n",
            "14    Oscar  25.0   82.0       91.00       0\n",
            "15     Paul  22.0   81.0       85.25       1\n"
          ]
        }
      ]
    },
    {
      "cell_type": "markdown",
      "source": [
        "4"
      ],
      "metadata": {
        "id": "FDSBT1dEb4xf"
      }
    },
    {
      "cell_type": "code",
      "source": [
        "def performance_category(marks):\n",
        "    if marks >= 85:\n",
        "       return \"High\"\n",
        "    elif marks >= 70:\n",
        "       return \"Medium\"\n",
        "    else:\n",
        "       return \"Low\"\n",
        "df[\"Performance\"] = df[\"Marks\"].apply(performance_category)\n",
        "print(df)"
      ],
      "metadata": {
        "colab": {
          "base_uri": "https://localhost:8080/"
        },
        "id": "_twc2j6vb58E",
        "outputId": "becc8bfe-5594-4559-b050-32fec2bba820"
      },
      "execution_count": null,
      "outputs": [
        {
          "output_type": "stream",
          "name": "stdout",
          "text": [
            "       Name   Age  Marks  Attendance  Passed Performance\n",
            "0     Alice  20.0   85.0       90.00       1        High\n",
            "1       Bob  21.0   82.0       80.00       0      Medium\n",
            "2   Charlie  22.0   78.0       85.25       1      Medium\n",
            "3     David  22.0   90.0       85.00       1        High\n",
            "4       Eve  20.0   88.0       95.00       0        High\n",
            "5     Frank  22.0   76.0       70.00       1      Medium\n",
            "6     Grace  23.0   82.0       88.00       0      Medium\n",
            "7      Hank  21.0   80.0       85.25       1      Medium\n",
            "8       Ivy  24.0   92.0       92.00       1        High\n",
            "9      Jack  22.0   79.0       85.00       0      Medium\n",
            "10    Kelly  22.0   82.0       78.00       1      Medium\n",
            "11      Leo  23.0   87.0       85.25       1        High\n",
            "12     Mona  21.0   83.0       80.00       0      Medium\n",
            "13     Nina  22.0   77.0       89.00       1      Medium\n",
            "14    Oscar  25.0   82.0       91.00       0      Medium\n",
            "15     Paul  22.0   81.0       85.25       1      Medium\n"
          ]
        }
      ]
    },
    {
      "cell_type": "markdown",
      "source": [
        "4.1"
      ],
      "metadata": {
        "id": "bEWE0UBfcY4c"
      }
    },
    {
      "cell_type": "code",
      "source": [
        "df[\"Age_Group\"] = pd.cut(df[\"Age\"], bins=[18, 21, 24], labels=[\"Young\", \"Adult\"])\n",
        "print(df)"
      ],
      "metadata": {
        "id": "suB02lGJcaWV",
        "outputId": "c1d1b7af-365f-4f39-ea66-0ba39d3bb9d1",
        "colab": {
          "base_uri": "https://localhost:8080/"
        }
      },
      "execution_count": null,
      "outputs": [
        {
          "output_type": "stream",
          "name": "stdout",
          "text": [
            "       Name   Age  Marks  Attendance  Passed Performance Age_Group\n",
            "0     Alice  20.0   85.0       90.00       1        High     Young\n",
            "1       Bob  21.0   82.0       80.00       0      Medium     Young\n",
            "2   Charlie  22.0   78.0       85.25       1      Medium     Adult\n",
            "3     David  22.0   90.0       85.00       1        High     Adult\n",
            "4       Eve  20.0   88.0       95.00       0        High     Young\n",
            "5     Frank  22.0   76.0       70.00       1      Medium     Adult\n",
            "6     Grace  23.0   82.0       88.00       0      Medium     Adult\n",
            "7      Hank  21.0   80.0       85.25       1      Medium     Young\n",
            "8       Ivy  24.0   92.0       92.00       1        High     Adult\n",
            "9      Jack  22.0   79.0       85.00       0      Medium     Adult\n",
            "10    Kelly  22.0   82.0       78.00       1      Medium     Adult\n",
            "11      Leo  23.0   87.0       85.25       1        High     Adult\n",
            "12     Mona  21.0   83.0       80.00       0      Medium     Young\n",
            "13     Nina  22.0   77.0       89.00       1      Medium     Adult\n",
            "14    Oscar  25.0   82.0       91.00       0      Medium       NaN\n",
            "15     Paul  22.0   81.0       85.25       1      Medium     Adult\n"
          ]
        }
      ]
    }
  ]
}